{
 "cells": [
  {
   "cell_type": "markdown",
   "id": "5e97fb2d",
   "metadata": {},
   "source": [
    "# Data Science Tools and Ecosystem\n"
   ]
  },
  {
   "cell_type": "markdown",
   "id": "fb6b8132",
   "metadata": {},
   "source": [
    "# INTRODUCTION\n"
   ]
  },
  {
   "cell_type": "code",
   "execution_count": 2,
   "id": "7550e53f",
   "metadata": {},
   "outputs": [],
   "source": [
    "#In this notebook, Data Science Tools and Ecosystem are summarized."
   ]
  },
  {
   "cell_type": "markdown",
   "id": "dcb30a38",
   "metadata": {},
   "source": [
    "# DATA SCIENCE LANGUAGE"
   ]
  },
  {
   "cell_type": "code",
   "execution_count": 3,
   "id": "b191d05c",
   "metadata": {},
   "outputs": [],
   "source": [
    "#PYTHON\n",
    "# R\n",
    "#SQL"
   ]
  },
  {
   "cell_type": "markdown",
   "id": "45ab456e",
   "metadata": {},
   "source": [
    "# DATA SCIENCE LIBRARIES"
   ]
  },
  {
   "cell_type": "code",
   "execution_count": 4,
   "id": "dc7dd03a",
   "metadata": {},
   "outputs": [],
   "source": [
    "#NUMPY\n",
    "#PANDAS\n",
    "#SEABORN \n",
    "#SC-LEARN\n",
    "#MATPLOTLIB"
   ]
  },
  {
   "cell_type": "markdown",
   "id": "59897b13",
   "metadata": {},
   "source": [
    "# DATA SCIENCE TOOLS"
   ]
  },
  {
   "cell_type": "code",
   "execution_count": 5,
   "id": "0c18a1f1",
   "metadata": {},
   "outputs": [],
   "source": [
    "#SAS"
   ]
  },
  {
   "cell_type": "code",
   "execution_count": 6,
   "id": "9aa6a92d",
   "metadata": {},
   "outputs": [],
   "source": [
    "#MATLAB"
   ]
  },
  {
   "cell_type": "code",
   "execution_count": 7,
   "id": "1ea1771d",
   "metadata": {},
   "outputs": [],
   "source": [
    "#APACHE SPARK"
   ]
  },
  {
   "cell_type": "code",
   "execution_count": 8,
   "id": "9dba55ed",
   "metadata": {},
   "outputs": [],
   "source": [
    "#EXCEL\n",
    "#TABLEAU\n"
   ]
  },
  {
   "cell_type": "markdown",
   "id": "58726399",
   "metadata": {},
   "source": [
    "# introducing arithmetic expression "
   ]
  },
  {
   "cell_type": "code",
   "execution_count": 9,
   "id": "30ba9f2a",
   "metadata": {},
   "outputs": [],
   "source": [
    "#Below are a few examples of evaluating arithmetic expressions in Python"
   ]
  },
  {
   "cell_type": "code",
   "execution_count": 10,
   "id": "0912a979",
   "metadata": {},
   "outputs": [],
   "source": [
    "#A*B (MULTIPLY)\n",
    "# A/B(DIVIDE)\n",
    "#A//B(QUOTIENT ON DIVIDE ROUND OFF TO NEAREST INTEGER)\n",
    "#A%B(REMAINDER)"
   ]
  },
  {
   "cell_type": "markdown",
   "id": "0ab04695",
   "metadata": {},
   "source": [
    "# multiply and add numbers"
   ]
  },
  {
   "cell_type": "code",
   "execution_count": 11,
   "id": "74774d57",
   "metadata": {},
   "outputs": [
    {
     "data": {
      "text/plain": [
       "35"
      ]
     },
     "execution_count": 11,
     "metadata": {},
     "output_type": "execute_result"
    }
   ],
   "source": [
    "(3+4)*5"
   ]
  },
  {
   "cell_type": "code",
   "execution_count": 12,
   "id": "a11f2844",
   "metadata": {},
   "outputs": [
    {
     "data": {
      "text/plain": [
       "63"
      ]
     },
     "execution_count": 12,
     "metadata": {},
     "output_type": "execute_result"
    }
   ],
   "source": [
    "7*9"
   ]
  },
  {
   "cell_type": "code",
   "execution_count": 14,
   "id": "1ede138d",
   "metadata": {},
   "outputs": [
    {
     "data": {
      "text/plain": [
       "28"
      ]
     },
     "execution_count": 14,
     "metadata": {},
     "output_type": "execute_result"
    }
   ],
   "source": [
    "8+(5*4)"
   ]
  },
  {
   "cell_type": "code",
   "execution_count": 15,
   "id": "9e129b96",
   "metadata": {},
   "outputs": [],
   "source": [
    "#MINUTES TO HOUR\n"
   ]
  },
  {
   "cell_type": "code",
   "execution_count": 16,
   "id": "8b409b2b",
   "metadata": {},
   "outputs": [
    {
     "data": {
      "text/plain": [
       "3.3333333333333335"
      ]
     },
     "execution_count": 16,
     "metadata": {},
     "output_type": "execute_result"
    }
   ],
   "source": [
    "200/60"
   ]
  },
  {
   "cell_type": "code",
   "execution_count": 17,
   "id": "a0249068",
   "metadata": {},
   "outputs": [
    {
     "data": {
      "text/plain": [
       "3"
      ]
     },
     "execution_count": 17,
     "metadata": {},
     "output_type": "execute_result"
    }
   ],
   "source": [
    "200//60"
   ]
  },
  {
   "cell_type": "markdown",
   "id": "75ff6f68",
   "metadata": {},
   "source": [
    "# AUTHOR -HITESH VASHISTH"
   ]
  },
  {
   "cell_type": "code",
   "execution_count": null,
   "id": "be2b4e0d",
   "metadata": {},
   "outputs": [],
   "source": []
  }
 ],
 "metadata": {
  "kernelspec": {
   "display_name": "Python 3 (ipykernel)",
   "language": "python",
   "name": "python3"
  },
  "language_info": {
   "codemirror_mode": {
    "name": "ipython",
    "version": 3
   },
   "file_extension": ".py",
   "mimetype": "text/x-python",
   "name": "python",
   "nbconvert_exporter": "python",
   "pygments_lexer": "ipython3",
   "version": "3.9.12"
  }
 },
 "nbformat": 4,
 "nbformat_minor": 5
}
